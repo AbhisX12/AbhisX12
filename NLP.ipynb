{
  "nbformat": 4,
  "nbformat_minor": 0,
  "metadata": {
    "colab": {
      "name": "NLP.ipynb",
      "provenance": [],
      "authorship_tag": "ABX9TyNwy0pjQgNxvkncl1OfXGHx",
      "include_colab_link": true
    },
    "kernelspec": {
      "name": "python3",
      "display_name": "Python 3"
    },
    "language_info": {
      "name": "python"
    }
  },
  "cells": [
    {
      "cell_type": "markdown",
      "metadata": {
        "id": "view-in-github",
        "colab_type": "text"
      },
      "source": [
        "<a href=\"https://colab.research.google.com/github/AbhishekRP2002/ML-AI-Notes-and-Self-Practice/blob/main/NLP.ipynb\" target=\"_parent\"><img src=\"https://colab.research.google.com/assets/colab-badge.svg\" alt=\"Open In Colab\"/></a>"
      ]
    },
    {
      "cell_type": "markdown",
      "source": [
        "https://regex101.com/"
      ],
      "metadata": {
        "id": "6sR116f3h_85"
      }
    },
    {
      "cell_type": "code",
      "execution_count": 3,
      "metadata": {
        "id": "m0D50Lb0fayz"
      },
      "outputs": [],
      "source": [
        " import re  # allows to do pattern matching\n"
      ]
    },
    {
      "cell_type": "code",
      "source": [
        "text='''\n",
        "Elon musk's phone number is 9991116666, call him if you have any questions on dodgecoin. Tesla's revenue is 40 billion\n",
        "Tesla's CFO number (999)-333-7777\n",
        "'''\n",
        "pattern = '\\(\\d{3}\\)-\\d{3}-\\d{4}|\\d{10}'\n",
        "\n",
        "matches = re.findall(pattern, text)\n",
        "matches"
      ],
      "metadata": {
        "colab": {
          "base_uri": "https://localhost:8080/"
        },
        "id": "JiceXNAchs_o",
        "outputId": "4593f3b0-fa4b-4677-d95b-92c21ea88f67"
      },
      "execution_count": 4,
      "outputs": [
        {
          "output_type": "execute_result",
          "data": {
            "text/plain": [
              "['9991116666', '(999)-333-7777']"
            ]
          },
          "metadata": {},
          "execution_count": 4
        }
      ]
    },
    {
      "cell_type": "code",
      "source": [
        "chat1='codebasics: Hello, I am having an issue with my order # 412889912'"
      ],
      "metadata": {
        "id": "jFlO7dCdh2XR"
      },
      "execution_count": 5,
      "outputs": []
    },
    {
      "cell_type": "code",
      "source": [
        "pattern = 'order[^\\d]*(\\d*)'\n",
        "matches = re.findall(pattern , chat1)\n",
        "matches"
      ],
      "metadata": {
        "colab": {
          "base_uri": "https://localhost:8080/"
        },
        "id": "2xG0973IjcSb",
        "outputId": "e146b5b7-c14a-40e7-b6ff-4da20dc3f5a8"
      },
      "execution_count": 6,
      "outputs": [
        {
          "output_type": "execute_result",
          "data": {
            "text/plain": [
              "['412889912']"
            ]
          },
          "metadata": {},
          "execution_count": 6
        }
      ]
    },
    {
      "cell_type": "code",
      "source": [
        "chat2='codebasics: I have a problem with my order number 412889912'\n",
        "pattern = 'order[^\\d]*(\\d*)'\n",
        "matches = re.findall(pattern , chat2)\n",
        "matches"
      ],
      "metadata": {
        "colab": {
          "base_uri": "https://localhost:8080/"
        },
        "id": "ZAwnkJ7sjvVQ",
        "outputId": "ab06e73f-bd87-40cc-8475-3db58fad9a0e"
      },
      "execution_count": 8,
      "outputs": [
        {
          "output_type": "execute_result",
          "data": {
            "text/plain": [
              "['412889912']"
            ]
          },
          "metadata": {},
          "execution_count": 8
        }
      ]
    },
    {
      "cell_type": "code",
      "source": [
        "def get_pattern_match(pattern, text):\n",
        "    matches = re.findall(pattern, text)\n",
        "    if matches:\n",
        "        return matches[0]\n",
        "\n",
        "get_pattern_match('order[^\\d]*(\\d*)' , chat1)"
      ],
      "metadata": {
        "colab": {
          "base_uri": "https://localhost:8080/",
          "height": 36
        },
        "id": "nRIsrXeckE50",
        "outputId": "f2eb948a-2d11-48c4-9cf7-e2f687cd8714"
      },
      "execution_count": 9,
      "outputs": [
        {
          "output_type": "execute_result",
          "data": {
            "text/plain": [
              "'412889912'"
            ],
            "application/vnd.google.colaboratory.intrinsic+json": {
              "type": "string"
            }
          },
          "metadata": {},
          "execution_count": 9
        }
      ]
    },
    {
      "cell_type": "code",
      "source": [
        "text='''\n",
        "Born\tElon Reeve Musk\n",
        "June 28, 1971 (age 50)\n",
        "Pretoria, Transvaal, South Africa\n",
        "Citizenship\t\n",
        "South Africa (1971–present)\n",
        "Canada (1971–present)\n",
        "United States (2002–present)\n",
        "Education\tUniversity of Pennsylvania (BS, BA)\n",
        "Title\t\n",
        "Founder, CEO and Chief Engineer of SpaceX\n",
        "CEO and product architect of Tesla, Inc.\n",
        "Founder of The Boring Company and X.com (now part of PayPal)\n",
        "Co-founder of Neuralink, OpenAI, and Zip2\n",
        "Spouse(s)\t\n",
        "Justine Wilson\n",
        "​\n",
        "​(m. 2000; div. 2008)​\n",
        "Talulah Riley\n",
        "​\n",
        "​(m. 2010; div. 2012)​\n",
        "​\n",
        "​(m. 2013; div. 2016)\n",
        "'''"
      ],
      "metadata": {
        "id": "Kxfqg8wxk16p"
      },
      "execution_count": 10,
      "outputs": []
    },
    {
      "cell_type": "code",
      "source": [
        "def extract_personal_information(text):\n",
        "    age = get_pattern_match('age (\\d+)', text)\n",
        "    full_name = get_pattern_match('Born(.*)\\n', text)\n",
        "    birth_date = get_pattern_match('Born.*\\n(.*)\\(age', text)\n",
        "    birth_place = get_pattern_match('\\(age.*\\n(.*)', text)\n",
        "    return {\n",
        "        'age': int(age),\n",
        "        'name': full_name.strip(),\n",
        "        'birth_date': birth_date.strip(),\n",
        "        'birth_place': birth_place.strip()\n",
        "    }"
      ],
      "metadata": {
        "id": "okWmaibskfEW"
      },
      "execution_count": 11,
      "outputs": []
    },
    {
      "cell_type": "code",
      "source": [
        "extract_personal_information(text)"
      ],
      "metadata": {
        "colab": {
          "base_uri": "https://localhost:8080/"
        },
        "id": "D_7uhcc6k21z",
        "outputId": "0e0b0cae-d50e-4fdf-ba07-e73e866f29b1"
      },
      "execution_count": 13,
      "outputs": [
        {
          "output_type": "execute_result",
          "data": {
            "text/plain": [
              "{'age': 50,\n",
              " 'birth_date': 'June 28, 1971',\n",
              " 'birth_place': 'Pretoria, Transvaal, South Africa',\n",
              " 'name': 'Elon Reeve Musk'}"
            ]
          },
          "metadata": {},
          "execution_count": 13
        }
      ]
    },
    {
      "cell_type": "code",
      "source": [
        "text = '''\n",
        "Born\tMukesh Dhirubhai Ambani\n",
        "19 April 1957 (age 64)\n",
        "Aden, Colony of Aden\n",
        "(present-day Yemen)[1][2]\n",
        "Nationality\tIndian\n",
        "Alma mater\t\n",
        "St. Xavier's College, Mumbai\n",
        "Institute of Chemical Technology (B.E.)\n",
        "Stanford University (drop-out)\n",
        "Occupation\tChairman and MD, Reliance Industries\n",
        "Spouse(s)\tNita Ambani ​(m. 1985)​[3]\n",
        "Children\t3\n",
        "Parent(s)\t\n",
        "Dhirubhai Ambani (father)\n",
        "Kokilaben Ambani (mother)\n",
        "Relatives\tAnil Ambani (brother)\n",
        "Tina Ambani (sister-in-law)\n",
        "'''"
      ],
      "metadata": {
        "id": "PRj66Mb1k-SU"
      },
      "execution_count": 14,
      "outputs": []
    },
    {
      "cell_type": "code",
      "source": [
        "extract_personal_information(text)"
      ],
      "metadata": {
        "colab": {
          "base_uri": "https://localhost:8080/"
        },
        "id": "ytrUnpWdlFFj",
        "outputId": "5f49f580-c3dd-4ee1-ef70-52f1478b3fab"
      },
      "execution_count": 15,
      "outputs": [
        {
          "output_type": "execute_result",
          "data": {
            "text/plain": [
              "{'age': 64,\n",
              " 'birth_date': '19 April 1957',\n",
              " 'birth_place': 'Aden, Colony of Aden',\n",
              " 'name': 'Mukesh Dhirubhai Ambani'}"
            ]
          },
          "metadata": {},
          "execution_count": 15
        }
      ]
    },
    {
      "cell_type": "markdown",
      "source": [
        "# Spacy vs NLTK (Difference btwn the two libraries)\n",
        "- Spacy is object oriented \n",
        "- NLTK is string processing based library.\n",
        "- Spacy provides most efficient NLP algorithm for a given task. Hence, for end result hoose spacy.\n",
        "- NLTK provides access to many algorithms , If you care about specific algo and custmizations go with NLTK\n",
        "- "
      ],
      "metadata": {
        "id": "mMLDkumhFDHo"
      }
    },
    {
      "cell_type": "code",
      "source": [
        "import spacy\n",
        "import nltk"
      ],
      "metadata": {
        "id": "2gxrJNRulHpX"
      },
      "execution_count": 17,
      "outputs": []
    },
    {
      "cell_type": "code",
      "source": [
        "nlp = spacy.load(\"en_core_web_sm\")\n",
        "doc = nlp('Dr.Strange loves india. HUlk loves me .')\n",
        "\n",
        "for sentence in doc.sents:\n",
        "  print(sentence)\n"
      ],
      "metadata": {
        "colab": {
          "base_uri": "https://localhost:8080/"
        },
        "id": "ormDDCjNE5ck",
        "outputId": "bb451a65-be77-4b6c-a112-3bd534d53ece"
      },
      "execution_count": 18,
      "outputs": [
        {
          "output_type": "stream",
          "name": "stdout",
          "text": [
            "Dr.Strange loves india.\n",
            "HUlk loves me .\n"
          ]
        }
      ]
    },
    {
      "cell_type": "code",
      "source": [
        "for sentence in doc.sents:\n",
        "  for word in sentence:\n",
        "    print(word)"
      ],
      "metadata": {
        "colab": {
          "base_uri": "https://localhost:8080/"
        },
        "id": "blHecoIJGN9s",
        "outputId": "61364416-6007-4be9-eb25-12fdbe20d8b6"
      },
      "execution_count": 19,
      "outputs": [
        {
          "output_type": "stream",
          "name": "stdout",
          "text": [
            "Dr.\n",
            "Strange\n",
            "loves\n",
            "india\n",
            ".\n",
            "HUlk\n",
            "loves\n",
            "me\n",
            ".\n"
          ]
        }
      ]
    },
    {
      "cell_type": "markdown",
      "source": [
        "\n",
        "\n",
        "---\n",
        "\n",
        "\n",
        "\n",
        "---\n",
        "\n"
      ],
      "metadata": {
        "id": "QaT2I7bHGY9O"
      }
    },
    {
      "cell_type": "code",
      "source": [
        "nltk.download('punkt')\n",
        "from nltk import sent_tokenize"
      ],
      "metadata": {
        "colab": {
          "base_uri": "https://localhost:8080/"
        },
        "id": "qcSwYyfPGW5l",
        "outputId": "a38626b3-d59d-4f33-ce8d-1dcda7f9968e"
      },
      "execution_count": 20,
      "outputs": [
        {
          "output_type": "stream",
          "name": "stderr",
          "text": [
            "[nltk_data] Downloading package punkt to /root/nltk_data...\n",
            "[nltk_data]   Unzipping tokenizers/punkt.zip.\n"
          ]
        }
      ]
    },
    {
      "cell_type": "code",
      "source": [
        "sent_tokenize(\"Dr.Strange loves india. HUlk loves me .\")"
      ],
      "metadata": {
        "colab": {
          "base_uri": "https://localhost:8080/"
        },
        "id": "rnOxm13_HQQ9",
        "outputId": "17a54932-6fbe-416e-97e3-6a348c1a71a7"
      },
      "execution_count": 21,
      "outputs": [
        {
          "output_type": "execute_result",
          "data": {
            "text/plain": [
              "['Dr.Strange loves india.', 'HUlk loves me .']"
            ]
          },
          "metadata": {},
          "execution_count": 21
        }
      ]
    },
    {
      "cell_type": "code",
      "source": [
        "from nltk import word_tokenize\n",
        "word_tokenize(\"Dr.Strange loves india. HUlk loves me .\")"
      ],
      "metadata": {
        "colab": {
          "base_uri": "https://localhost:8080/"
        },
        "id": "xDLo54S6HaPq",
        "outputId": "7121f910-3808-49a0-8d4b-7bba4df449f2"
      },
      "execution_count": 22,
      "outputs": [
        {
          "output_type": "execute_result",
          "data": {
            "text/plain": [
              "['Dr.Strange', 'loves', 'india', '.', 'HUlk', 'loves', 'me', '.']"
            ]
          },
          "metadata": {},
          "execution_count": 22
        }
      ]
    },
    {
      "cell_type": "code",
      "source": [
        ""
      ],
      "metadata": {
        "id": "HZ9Lf4mTHsmo"
      },
      "execution_count": null,
      "outputs": []
    }
  ]
}